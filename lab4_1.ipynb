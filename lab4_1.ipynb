{
 "cells": [
  {
   "cell_type": "markdown",
   "metadata": {},
   "source": [
    "# 모두를 위한 딥러닝 Lab4_1"
   ]
  },
  {
   "cell_type": "code",
   "execution_count": 2,
   "metadata": {},
   "outputs": [
    {
     "name": "stderr",
     "output_type": "stream",
     "text": [
      "C:\\ProgramData\\Anaconda3\\lib\\site-packages\\h5py\\__init__.py:36: FutureWarning: Conversion of the second argument of issubdtype from `float` to `np.floating` is deprecated. In future, it will be treated as `np.float64 == np.dtype(float).type`.\n",
      "  from ._conv import register_converters as _register_converters\n"
     ]
    }
   ],
   "source": [
    "import tensorflow as tf"
   ]
  },
  {
   "cell_type": "markdown",
   "metadata": {},
   "source": [
    "### Matrix사용 안한 경우"
   ]
  },
  {
   "cell_type": "code",
   "execution_count": 13,
   "metadata": {},
   "outputs": [],
   "source": [
    "x1_data = [73,93,89,96,73]\n",
    "x2_data = [80,88,91,98,66]\n",
    "x3_data = [75,93,90,100,70]\n",
    "y_data = [152,185,180,196,142]"
   ]
  },
  {
   "cell_type": "code",
   "execution_count": 14,
   "metadata": {},
   "outputs": [],
   "source": [
    "x1 = tf.placeholder(tf.float32)\n",
    "x2 = tf.placeholder(tf.float32)\n",
    "x3 = tf.placeholder(tf.float32)\n",
    "y = tf.placeholder(tf.float32)"
   ]
  },
  {
   "cell_type": "code",
   "execution_count": 15,
   "metadata": {},
   "outputs": [],
   "source": [
    "w1 = tf.Variable(tf.random_normal([1]),name='weight1')\n",
    "w2 = tf.Variable(tf.random_normal([1]),name='weight2')\n",
    "w3 = tf.Variable(tf.random_normal([1]),name='weight3')\n",
    "b = tf.Variable(tf.random_normal([1]),name='bias')"
   ]
  },
  {
   "cell_type": "code",
   "execution_count": 16,
   "metadata": {},
   "outputs": [],
   "source": [
    "hypothesis = w1*x1 + w2*x2 + w3*x3 + b"
   ]
  },
  {
   "cell_type": "code",
   "execution_count": 17,
   "metadata": {},
   "outputs": [],
   "source": [
    "cost = tf.reduce_mean(tf.square(hypothesis - y))\n",
    "optimizer = tf.train.GradientDescentOptimizer(learning_rate=1e-5)\n",
    "train = optimizer.minimize(cost)"
   ]
  },
  {
   "cell_type": "code",
   "execution_count": 18,
   "metadata": {},
   "outputs": [],
   "source": [
    "sess = tf.Session()\n",
    "sess.run(tf.global_variables_initializer())"
   ]
  },
  {
   "cell_type": "code",
   "execution_count": 20,
   "metadata": {},
   "outputs": [
    {
     "name": "stdout",
     "output_type": "stream",
     "text": [
      "0 Cost: 10088.725 \n",
      "Prediction:\n",
      " [74.055435 70.16011  79.00988  82.4271   52.09861 ]\n",
      "100 Cost: 51.95345 \n",
      "Prediction:\n",
      " [162.65211 177.18199 184.18156 196.99258 133.83252]\n",
      "200 Cost: 49.257465 \n",
      "Prediction:\n",
      " [162.37578 177.37097 184.09634 196.93512 134.077  ]\n",
      "300 Cost: 46.703705 \n",
      "Prediction:\n",
      " [162.10684 177.55495 184.01341 196.87929 134.3149 ]\n",
      "400 Cost: 44.28441 \n",
      "Prediction:\n",
      " [161.84503 177.73401 183.93265 196.82504 134.54639]\n",
      "500 Cost: 41.9925 \n",
      "Prediction:\n",
      " [161.59016 177.90831 183.85402 196.77232 134.77164]\n",
      "600 Cost: 39.82142 \n",
      "Prediction:\n",
      " [161.34207 178.07799 183.77747 196.72108 134.99077]\n",
      "700 Cost: 37.764763 \n",
      "Prediction:\n",
      " [161.10057 178.2431  183.70293 196.6713  135.20401]\n",
      "800 Cost: 35.816345 \n",
      "Prediction:\n",
      " [160.86548 178.40387 183.63036 196.62294 135.41148]\n",
      "900 Cost: 33.97056 \n",
      "Prediction:\n",
      " [160.63661 178.56033 183.55971 196.57594 135.61336]\n",
      "1000 Cost: 32.22196 \n",
      "Prediction:\n",
      " [160.41383 178.71266 183.4909  196.53027 135.80977]\n",
      "1100 Cost: 30.565344 \n",
      "Prediction:\n",
      " [160.19693 178.86092 183.42392 196.48592 136.00089]\n",
      "1200 Cost: 28.996151 \n",
      "Prediction:\n",
      " [159.98582 179.00523 183.3587  196.44284 136.18681]\n",
      "1300 Cost: 27.509457 \n",
      "Prediction:\n",
      " [159.78032 179.14572 183.2952  196.401   136.36775]\n",
      "1400 Cost: 26.10108 \n",
      "Prediction:\n",
      " [159.58025 179.28247 183.23338 196.36034 136.54376]\n",
      "1500 Cost: 24.766771 \n",
      "Prediction:\n",
      " [159.38547 179.41557 183.17317 196.32083 136.71503]\n",
      "1600 Cost: 23.502636 \n",
      "Prediction:\n",
      " [159.19585 179.54515 183.11453 196.2825  136.88165]\n",
      "1700 Cost: 22.305038 \n",
      "Prediction:\n",
      " [159.01125 179.6713  183.05746 196.24525 137.04376]\n",
      "1800 Cost: 21.170553 \n",
      "Prediction:\n",
      " [158.83157 179.79407 183.00188 196.20906 137.20149]\n",
      "1900 Cost: 20.095682 \n",
      "Prediction:\n",
      " [158.65663 179.91359 182.94777 196.17395 137.35495]\n",
      "2000 Cost: 19.077366 \n",
      "Prediction:\n",
      " [158.48633 180.02994 182.89505 196.13986 137.50423]\n"
     ]
    }
   ],
   "source": [
    "for step in range(2001):\n",
    "    cost_val, hy_val, _ = sess.run([cost,hypothesis,train],\n",
    "                                   feed_dict={x1:x1_data, x2:x2_data, x3:x3_data,y:y_data})\n",
    "    if step % 100 == 0:\n",
    "        print(step, \"Cost:\",cost_val,\"\\nPrediction:\\n\",hy_val)"
   ]
  },
  {
   "cell_type": "markdown",
   "metadata": {},
   "source": [
    "### Matrix 사용한 경우"
   ]
  },
  {
   "cell_type": "code",
   "execution_count": 3,
   "metadata": {},
   "outputs": [],
   "source": [
    "x_data = [\n",
    "    [73,80,75],\n",
    "    [93,88,93],\n",
    "    [89,91,90],\n",
    "    [96,99,100],\n",
    "    [73,66,70]\n",
    "]\n",
    "y_data = [\n",
    "    [152],[185],[180],[196],[142]\n",
    "]"
   ]
  },
  {
   "cell_type": "code",
   "execution_count": 4,
   "metadata": {},
   "outputs": [],
   "source": [
    "X = tf.placeholder(tf.float32,shape=[None,3])\n",
    "Y = tf.placeholder(tf.float32,shape=[None,1])"
   ]
  },
  {
   "cell_type": "code",
   "execution_count": 6,
   "metadata": {},
   "outputs": [],
   "source": [
    "W = tf.Variable(tf.random_normal([3,1]),name = 'weight')\n",
    "b = tf.Variable(tf.random_normal([1]),name = 'bias')"
   ]
  },
  {
   "cell_type": "code",
   "execution_count": 11,
   "metadata": {},
   "outputs": [],
   "source": [
    "hypothesis = tf.matmul(X,W) + b"
   ]
  },
  {
   "cell_type": "code",
   "execution_count": 17,
   "metadata": {},
   "outputs": [],
   "source": [
    "cost = tf.reduce_mean(tf.square(hypothesis - y))\n",
    "optimizer = tf.train.GradientDescentOptimizer(learning_rate=1e-5)\n",
    "train = optimizer.minimize(cost)"
   ]
  },
  {
   "cell_type": "code",
   "execution_count": 18,
   "metadata": {},
   "outputs": [],
   "source": [
    "sess = tf.Session()\n",
    "sess.run(tf.global_variables_initializer())"
   ]
  },
  {
   "cell_type": "code",
   "execution_count": 20,
   "metadata": {},
   "outputs": [
    {
     "name": "stdout",
     "output_type": "stream",
     "text": [
      "0 Cost: 10088.725 \n",
      "Prediction:\n",
      " [74.055435 70.16011  79.00988  82.4271   52.09861 ]\n",
      "100 Cost: 51.95345 \n",
      "Prediction:\n",
      " [162.65211 177.18199 184.18156 196.99258 133.83252]\n",
      "200 Cost: 49.257465 \n",
      "Prediction:\n",
      " [162.37578 177.37097 184.09634 196.93512 134.077  ]\n",
      "300 Cost: 46.703705 \n",
      "Prediction:\n",
      " [162.10684 177.55495 184.01341 196.87929 134.3149 ]\n",
      "400 Cost: 44.28441 \n",
      "Prediction:\n",
      " [161.84503 177.73401 183.93265 196.82504 134.54639]\n",
      "500 Cost: 41.9925 \n",
      "Prediction:\n",
      " [161.59016 177.90831 183.85402 196.77232 134.77164]\n",
      "600 Cost: 39.82142 \n",
      "Prediction:\n",
      " [161.34207 178.07799 183.77747 196.72108 134.99077]\n",
      "700 Cost: 37.764763 \n",
      "Prediction:\n",
      " [161.10057 178.2431  183.70293 196.6713  135.20401]\n",
      "800 Cost: 35.816345 \n",
      "Prediction:\n",
      " [160.86548 178.40387 183.63036 196.62294 135.41148]\n",
      "900 Cost: 33.97056 \n",
      "Prediction:\n",
      " [160.63661 178.56033 183.55971 196.57594 135.61336]\n",
      "1000 Cost: 32.22196 \n",
      "Prediction:\n",
      " [160.41383 178.71266 183.4909  196.53027 135.80977]\n",
      "1100 Cost: 30.565344 \n",
      "Prediction:\n",
      " [160.19693 178.86092 183.42392 196.48592 136.00089]\n",
      "1200 Cost: 28.996151 \n",
      "Prediction:\n",
      " [159.98582 179.00523 183.3587  196.44284 136.18681]\n",
      "1300 Cost: 27.509457 \n",
      "Prediction:\n",
      " [159.78032 179.14572 183.2952  196.401   136.36775]\n",
      "1400 Cost: 26.10108 \n",
      "Prediction:\n",
      " [159.58025 179.28247 183.23338 196.36034 136.54376]\n",
      "1500 Cost: 24.766771 \n",
      "Prediction:\n",
      " [159.38547 179.41557 183.17317 196.32083 136.71503]\n",
      "1600 Cost: 23.502636 \n",
      "Prediction:\n",
      " [159.19585 179.54515 183.11453 196.2825  136.88165]\n",
      "1700 Cost: 22.305038 \n",
      "Prediction:\n",
      " [159.01125 179.6713  183.05746 196.24525 137.04376]\n",
      "1800 Cost: 21.170553 \n",
      "Prediction:\n",
      " [158.83157 179.79407 183.00188 196.20906 137.20149]\n",
      "1900 Cost: 20.095682 \n",
      "Prediction:\n",
      " [158.65663 179.91359 182.94777 196.17395 137.35495]\n",
      "2000 Cost: 19.077366 \n",
      "Prediction:\n",
      " [158.48633 180.02994 182.89505 196.13986 137.50423]\n"
     ]
    }
   ],
   "source": [
    "for step in range(2001):\n",
    "    cost_val, hy_val, _ = sess.run([cost,hypothesis,train],\n",
    "                                   feed_dict={x1:x1_data, x2:x2_data, x3:x3_data,y:y_data})\n",
    "    if step % 100 == 0:\n",
    "        print(step, \"Cost:\",cost_val,\"\\nPrediction:\\n\",hy_val)"
   ]
  }
 ],
 "metadata": {
  "kernelspec": {
   "display_name": "Python 3",
   "language": "python",
   "name": "python3"
  },
  "language_info": {
   "codemirror_mode": {
    "name": "ipython",
    "version": 3
   },
   "file_extension": ".py",
   "mimetype": "text/x-python",
   "name": "python",
   "nbconvert_exporter": "python",
   "pygments_lexer": "ipython3",
   "version": "3.6.5"
  }
 },
 "nbformat": 4,
 "nbformat_minor": 2
}
