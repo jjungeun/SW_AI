{
 "cells": [
  {
   "cell_type": "markdown",
   "metadata": {},
   "source": [
    "# 모두를 위한 딥러닝 Lab2\n",
    "## 1. Constant array사용\n",
    "### (1) Build graph using TF operations"
   ]
  },
  {
   "cell_type": "code",
   "execution_count": 2,
   "metadata": {},
   "outputs": [
    {
     "name": "stderr",
     "output_type": "stream",
     "text": [
      "C:\\ProgramData\\Anaconda3\\lib\\site-packages\\h5py\\__init__.py:36: FutureWarning: Conversion of the second argument of issubdtype from `float` to `np.floating` is deprecated. In future, it will be treated as `np.float64 == np.dtype(float).type`.\n",
      "  from ._conv import register_converters as _register_converters\n"
     ]
    }
   ],
   "source": [
    "import tensorflow as tf"
   ]
  },
  {
   "cell_type": "code",
   "execution_count": 3,
   "metadata": {},
   "outputs": [],
   "source": [
    "# X and Y data\n",
    "x_train = [1,2,3]\n",
    "y_train = [1,2,3]"
   ]
  },
  {
   "cell_type": "code",
   "execution_count": 5,
   "metadata": {},
   "outputs": [],
   "source": [
    "# W와 b에 대해 shape지정하여 Variable 생성\n",
    "W = tf.Variable(tf.random_normal([1]), name = 'weight')\n",
    "b = tf.Variable(tf.random_normal([1]), name = 'bias')"
   ]
  },
  {
   "cell_type": "markdown",
   "metadata": {},
   "source": [
    "##### H(x) = Wx + b"
   ]
  },
  {
   "cell_type": "code",
   "execution_count": 6,
   "metadata": {},
   "outputs": [],
   "source": [
    "# Hypotehsis function 생성\n",
    "hypothesis = x_train * W + b"
   ]
  },
  {
   "cell_type": "markdown",
   "metadata": {},
   "source": [
    "##### cost(W,b) 함수 작성"
   ]
  },
  {
   "cell_type": "code",
   "execution_count": 7,
   "metadata": {},
   "outputs": [],
   "source": [
    "cost = tf.reduce_mean(tf.square(hyphothesis - y_train))"
   ]
  },
  {
   "cell_type": "markdown",
   "metadata": {},
   "source": [
    "##### GradientDescent"
   ]
  },
  {
   "cell_type": "code",
   "execution_count": 8,
   "metadata": {},
   "outputs": [],
   "source": [
    "# cost minimize\n",
    "optimizer = tf.train.GradientDescentOptimizer(learning_rate=0.01)\n",
    "train = optimizer.minimize(cost)"
   ]
  },
  {
   "cell_type": "markdown",
   "metadata": {},
   "source": [
    "### (2) Run/update graph "
   ]
  },
  {
   "cell_type": "code",
   "execution_count": 10,
   "metadata": {},
   "outputs": [],
   "source": [
    "# session에서 graph launch(시작)\n",
    "sess = tf.Session()\n",
    "\n",
    "# 전역변수(W,b) initialize\n",
    "sess.run(tf.global_variables_initializer())"
   ]
  },
  {
   "cell_type": "markdown",
   "metadata": {},
   "source": [
    "### (3) Get results "
   ]
  },
  {
   "cell_type": "code",
   "execution_count": 11,
   "metadata": {},
   "outputs": [
    {
     "name": "stdout",
     "output_type": "stream",
     "text": [
      "0 5.90114 [-0.4425651] [0.7605572]\n",
      "100 0.12112924 [0.5957703] [0.91888934]\n",
      "200 0.07485052 [0.6822443] [0.7223334]\n",
      "300 0.04625313 [0.750215] [0.5678201]\n",
      "400 0.028581614 [0.80364627] [0.44635832]\n",
      "500 0.01766169 [0.84564793] [0.35087842]\n",
      "600 0.01091385 [0.87866527] [0.27582234]\n",
      "700 0.006744103 [0.9046199] [0.21682143]\n",
      "800 0.004167439 [0.92502254] [0.17044136]\n",
      "900 0.0025752268 [0.94106096] [0.13398242]\n",
      "1000 0.0015913391 [0.9536685] [0.10532242]\n",
      "1100 0.0009833428 [0.96357924] [0.08279299]\n",
      "1200 0.0006076503 [0.97137] [0.06508286]\n",
      "1300 0.0003754889 [0.9774942] [0.05116102]\n",
      "1400 0.00023202905 [0.9823084] [0.04021718]\n",
      "1500 0.0001433794 [0.9860928] [0.03161432]\n",
      "1600 8.859927e-05 [0.9890676] [0.02485177]\n",
      "1700 5.4749544e-05 [0.9914062] [0.01953577]\n",
      "1800 3.3831766e-05 [0.99324447] [0.01535685]\n",
      "1900 2.0906102e-05 [0.9946895] [0.01207189]\n",
      "2000 1.2917945e-05 [0.9958256] [0.00948951]\n"
     ]
    }
   ],
   "source": [
    "for step in range(2001):\n",
    "    sess.run(train)\n",
    "    if step % 100 == 0:\n",
    "        print(step, sess.run(cost), sess.run(W), sess.run(b))"
   ]
  },
  {
   "cell_type": "markdown",
   "metadata": {},
   "source": [
    "## 2. Placeholder 사용"
   ]
  },
  {
   "cell_type": "code",
   "execution_count": 12,
   "metadata": {},
   "outputs": [],
   "source": [
    "x = tf.placeholder(tf.float32, shape=[None])\n",
    "y = tf.placeholder(tf.float32, shape=[None])\n",
    "\n",
    "W = tf.Variable(tf.random_normal([1]), name = 'weight')\n",
    "b = tf.Variable(tf.random_normal([1]), name = 'bias')"
   ]
  },
  {
   "cell_type": "code",
   "execution_count": 14,
   "metadata": {},
   "outputs": [],
   "source": [
    "hypothesis = x * W + b\n",
    "\n",
    "cost = tf.reduce_mean(tf.square(hypothesis-y))"
   ]
  },
  {
   "cell_type": "code",
   "execution_count": 15,
   "metadata": {},
   "outputs": [],
   "source": [
    "optimizer = tf.train.GradientDescentOptimizer(learning_rate=0.01)\n",
    "train = optimizer.minimize(cost)"
   ]
  },
  {
   "cell_type": "code",
   "execution_count": 17,
   "metadata": {},
   "outputs": [],
   "source": [
    "sess = tf.Session()\n",
    "sess.run(tf.global_variables_initializer())"
   ]
  },
  {
   "cell_type": "code",
   "execution_count": 19,
   "metadata": {},
   "outputs": [
    {
     "name": "stdout",
     "output_type": "stream",
     "text": [
      "0 1.0438485e-07 [1.0002092] [1.0992452]\n",
      "100 5.313109e-08 [1.0001491] [1.0994617]\n",
      "200 2.7047054e-08 [1.0001066] [1.0996158]\n",
      "300 1.3780891e-08 [1.000076] [1.0997257]\n",
      "400 6.980281e-09 [1.0000541] [1.0998048]\n",
      "500 3.6036454e-09 [1.000039] [1.0998596]\n",
      "600 1.8758441e-09 [1.0000279] [1.0998987]\n",
      "700 9.603809e-10 [1.00002] [1.0999275]\n",
      "800 4.710728e-10 [1.0000141] [1.0999491]\n",
      "900 2.7639543e-10 [1.0000108] [1.099961]\n",
      "1000 1.3483259e-10 [1.0000076] [1.099973]\n",
      "1100 7.504468e-11 [1.0000058] [1.0999795]\n",
      "1200 7.504468e-11 [1.0000058] [1.0999795]\n",
      "1300 7.504468e-11 [1.0000058] [1.0999795]\n",
      "1400 7.504468e-11 [1.0000058] [1.0999795]\n",
      "1500 7.504468e-11 [1.0000058] [1.0999795]\n",
      "1600 7.504468e-11 [1.0000058] [1.0999795]\n",
      "1700 7.504468e-11 [1.0000058] [1.0999795]\n",
      "1800 7.504468e-11 [1.0000058] [1.0999795]\n",
      "1900 7.504468e-11 [1.0000058] [1.0999795]\n",
      "2000 7.504468e-11 [1.0000058] [1.0999795]\n"
     ]
    }
   ],
   "source": [
    "for step in range(2001):\n",
    "    cost_val, W_val, b_val, _ = sess.run([cost, W, b, train], feed_dict = { x : [1,2,3,4,5], y : [2.1,3.1,4.1,5.1,6.1] })\n",
    "    if step % 100 == 0:\n",
    "        print(step, cost_val, W_val, b_val)"
   ]
  }
 ],
 "metadata": {
  "kernelspec": {
   "display_name": "Python 3",
   "language": "python",
   "name": "python3"
  },
  "language_info": {
   "codemirror_mode": {
    "name": "ipython",
    "version": 3
   },
   "file_extension": ".py",
   "mimetype": "text/x-python",
   "name": "python",
   "nbconvert_exporter": "python",
   "pygments_lexer": "ipython3",
   "version": "3.6.5"
  }
 },
 "nbformat": 4,
 "nbformat_minor": 2
}
